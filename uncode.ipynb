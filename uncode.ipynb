{
 "cells": [
  {
   "cell_type": "code",
   "execution_count": 9,
   "metadata": {},
   "outputs": [],
   "source": [
    "#functions\n",
    "import hashlib\n",
    "import itertools\n",
    "\n",
    "path = \"C:\\\\Users\\\\peorr\\\\OneDrive\\\\Documentos\\\\GitHub\\\\ComputerSecurity\\\\decrypt\"\n",
    "########### GENERATE KEYS ###############################\n",
    "def generate_key(k0):\n",
    "    # Cálculo de k1 como un desplazamiento cíclico de 1 bit a la derecha de k0\n",
    "    k1 = bytearray([(k0[0] >> 1) | ((k0[1] & 0x01) << 7), (k0[1] >> 1)])\n",
    "\n",
    "    # Cálculo de los hashes SHA-512 de k0 y k1\n",
    "    h0 = hashlib.sha512(k0).digest()\n",
    "    h1 = hashlib.sha512(k1).digest()\n",
    "\n",
    "    # Concatenar h0 y h1 para formar la clave de 1024 bits (128 bytes)\n",
    "    key = h0 + h1\n",
    "    return key.hex()\n",
    "\n",
    "### One time pad ENCRYPTION \n",
    "\n",
    "def decrypt(ciphertext, key):\n",
    "    # Convert ciphertext and key to binary using hex decoding\n",
    "    ciphertext_bin = bytes.fromhex(ciphertext)\n",
    "    key_bin = key.encode('ascii')\n",
    "\n",
    "    # Compute the plaintext by XORing the ciphertext and key\n",
    "    plaintext = ''.join(chr(ct_byte ^ key_byte)\n",
    "                        for ct_byte, key_byte in zip(ciphertext_bin, key_bin))\n",
    "\n",
    "    return plaintext\n",
    "\n",
    "\n",
    "\n",
    "def convert_int_tuple_to_string(int_tuple):\n",
    "    str_list = [str(num) for num in int_tuple]\n",
    "    string = ''.join(str_list)\n",
    "    return string\n",
    "\n",
    "#convert to bytes\n",
    "def convert_binary_string_to_bytes_and_bytearray(binary_string):\n",
    "    # Convert binary string to bytes\n",
    "    byte_data = bytes(int(binary_string[i:i+8], 2) for i in range(0, len(binary_string), 8))\n",
    "    \n",
    "    # Convert bytes to bytearray\n",
    "    byte_data = bytearray(byte_data)\n",
    "    \n",
    "    return byte_data\n",
    "\n",
    "\n",
    "#########################LANGUAGE PROBABILITIES#########################\n",
    "#function that only returns the sentences with prob >=0.5 to be english language\n",
    "from langdetect import detect_langs\n",
    "\n",
    "def is_english(sentence, threshold=0.5):\n",
    "    try:\n",
    "        languages = detect_langs(sentence)\n",
    "        for lang in languages:\n",
    "            if lang.lang == 'en' and lang.prob >= threshold:\n",
    "                return sentence\n",
    "        return \"\"\n",
    "    except:\n",
    "        return \"\"\n",
    "    "
   ]
  },
  {
   "cell_type": "code",
   "execution_count": 10,
   "metadata": {},
   "outputs": [],
   "source": [
    "#generate all possible 16 bit\n",
    "combinations = list(map(convert_int_tuple_to_string, itertools.product([0, 1], repeat=16)))\n",
    "combinations = list(map(convert_binary_string_to_bytes_and_bytearray,combinations))\n"
   ]
  },
  {
   "cell_type": "code",
   "execution_count": 11,
   "metadata": {},
   "outputs": [],
   "source": [
    "#generate keys from combinations\n",
    "keys = list(map(generate_key,combinations))"
   ]
  },
  {
   "cell_type": "code",
   "execution_count": 12,
   "metadata": {},
   "outputs": [
    {
     "name": "stdout",
     "output_type": "stream",
     "text": [
      "['05515052555506010608070f0055050703510d5d5001025b0c5454070c510c52060205530f51545d090a0605000b005d5058535453520405570304010c0454035755515d01075450020504060903535206545200050400070301010f0207040a56025402510504005500050706090d51550f5551040c0d0705015703530f070f0303555055060c515150080551035200070a54505654515708560154070457520351075b5451065404030151000201520105550405065254025202060106535503520c0554575700550c5601070b5756515454525456520a00005203575a5055025403095657010105500c560c515403000d0057000455525352570e04540707']\n"
     ]
    }
   ],
   "source": [
    "#open message\n",
    "with open(path+'/Ciphertext-13.txt', 'r') as f:\n",
    "    secret= f.readlines()\n",
    "    f.close()\n",
    "    #save it\n",
    "\n",
    "print(secret)\n"
   ]
  },
  {
   "cell_type": "code",
   "execution_count": 13,
   "metadata": {},
   "outputs": [],
   "source": [
    "#generate decryption of message\n",
    "\n",
    "dec = list(map(lambda x: decrypt(secret[0],x),keys))\n",
    "# check probbaility of language english\n",
    "\n",
    "check =list(map(is_english,dec))\n",
    "#remove non probable\n",
    "check[:]= (value for value in check if value != \"\")\n",
    "#double language check\n",
    "\n",
    "check2 =list(map(lambda x: is_english(sentence = x,threshold=0.9999),check))\n",
    "check2[:]= (value for value in check2 if value != \"\")"
   ]
  },
  {
   "cell_type": "code",
   "execution_count": 15,
   "metadata": {},
   "outputs": [
    {
     "data": {
      "text/plain": [
       "'0b0e93167a2b03369cdb7b1bf5f46758929afcda5bbb63ca4897028650e024440f703418e63d6a59dcc7f57538df08db1aa484619f91c1e7be4784efbd907b158993dd23a402cd3cf6ed8733860d58fbb3ed12a56bcde85c124b629d9d33029881f9e6ea2226d0a374d8d0c0a2f4bcf003ada3662ff25dca81f72b1884e3893f'"
      ]
     },
     "execution_count": 15,
     "metadata": {},
     "output_type": "execute_result"
    }
   ],
   "source": [
    "# get key from encryption\n",
    "keys[560]"
   ]
  },
  {
   "cell_type": "code",
   "execution_count": null,
   "metadata": {},
   "outputs": [],
   "source": []
  }
 ],
 "metadata": {
  "kernelspec": {
   "display_name": "base",
   "language": "python",
   "name": "python3"
  },
  "language_info": {
   "codemirror_mode": {
    "name": "ipython",
    "version": 3
   },
   "file_extension": ".py",
   "mimetype": "text/x-python",
   "name": "python",
   "nbconvert_exporter": "python",
   "pygments_lexer": "ipython3",
   "version": "3.10.2"
  },
  "orig_nbformat": 4
 },
 "nbformat": 4,
 "nbformat_minor": 2
}
